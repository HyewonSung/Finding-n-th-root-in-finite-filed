{
 "cells": [
  {
   "cell_type": "code",
   "execution_count": 40,
   "metadata": {},
   "outputs": [],
   "source": [
    "import timeit\n",
    "import numpy\n",
    "from random import *"
   ]
  },
  {
   "cell_type": "code",
   "execution_count": 64,
   "metadata": {},
   "outputs": [],
   "source": [
    "def recurrence_relation(U_list,p,r,m,n,c,b) :\n",
    "    #make recurrence relation : U[j][m+n]\n",
    "    for j in range(0,r):\n",
    "            temp1=0\n",
    "            for i in range(0,j+1) :\n",
    "                temp1 = temp1+U_list[i][n]*U_list[j-i][m]\n",
    "            temp2=0\n",
    "            for i in range(1, r-j):\n",
    "                temp2 = temp2+U_list[j+i][n]*U_list[r-i][m]\n",
    "            temp = temp1+(c-pow(b,r))*temp2\n",
    "            U_list[j][m+n] = temp%p\n",
    "    return U_list"
   ]
  },
  {
   "cell_type": "code",
   "execution_count": 88,
   "metadata": {},
   "outputs": [],
   "source": [
    "def H_C_Williams(p,r,b,c) :\n",
    "    # rth root x = U0,(p^r-1/r(p-1)) \n",
    "    \n",
    "    t = (pow(p,r)-1)//(r*(p-1))\n",
    "    goal = bin(t)\n",
    "    l = len(goal)\n",
    "    \n",
    "    U_list = []\n",
    "    U_list = numpy.zeros((r,2*t))\n",
    "    \n",
    "    U_list[0][1]=b\n",
    "    U_list[1][1]=1\n",
    "    \n",
    "    start = 1\n",
    "    for u in range(0,l-3):\n",
    "        U_list = recurrence_relation(U_list,p,r,start,start,c,b)\n",
    "        start = start*2\n",
    "        \n",
    "    #Find index of 1 in binary(int(goal)) \n",
    "    goal = goal[l-1:1:-1]\n",
    "    pos=[]\n",
    "    for i in range(len(goal)):\n",
    "        if(goal[i]=='1'):\n",
    "            pos.append(i)\n",
    "    \n",
    "    if (len(pos)>=2):\n",
    "        i = 1\n",
    "        m = 2**(pos[0])\n",
    "        n = 2**(pos[1])\n",
    "        U_list = recurrence_relation(U_list,p,r,m,n,c,b)\n",
    "        for u in range(0,len(pos)-2):\n",
    "            m=m+n\n",
    "            i=i+1\n",
    "            n=2**(pos[i])\n",
    "            U_list = recurrence_relation(U_list,p,r,m,n,c,b)\n",
    "\n",
    "\n",
    "    \n",
    "    return(U_list,t)"
   ]
  },
  {
   "cell_type": "code",
   "execution_count": 89,
   "metadata": {},
   "outputs": [
    {
     "name": "stdout",
     "output_type": "stream",
     "text": [
      "r th root is 20.0\n"
     ]
    }
   ],
   "source": [
    "#main\n",
    "r=3\n",
    "p=31\n",
    "c=2\n",
    "\n",
    "#Step1 : Choose b in Fp such that b^r-c is NOT an r-th power residue.\n",
    "for i in range(0,p):\n",
    "    num = (pow(i,r)-c)%p\n",
    "    if pow(num,(p-1)//r,p) != 1 and pow(num,(p-1//r),p) != 0:\n",
    "        b=i\n",
    "        break\n",
    "\n",
    "        \n",
    "#Step2 : Use recurrence relation Uj,m+n to compute the r-th root of c.\n",
    "U_list,t = H_C_Williams(p,r,b,c)\n",
    "rth_root = U_list[0][t]\n",
    "print(\"r th root is\", rth_root)"
   ]
  },
  {
   "cell_type": "code",
   "execution_count": null,
   "metadata": {},
   "outputs": [],
   "source": []
  }
 ],
 "metadata": {
  "kernelspec": {
   "display_name": "Python 3",
   "language": "python",
   "name": "python3"
  },
  "language_info": {
   "codemirror_mode": {
    "name": "ipython",
    "version": 3
   },
   "file_extension": ".py",
   "mimetype": "text/x-python",
   "name": "python",
   "nbconvert_exporter": "python",
   "pygments_lexer": "ipython3",
   "version": "3.8.8"
  }
 },
 "nbformat": 4,
 "nbformat_minor": 4
}
