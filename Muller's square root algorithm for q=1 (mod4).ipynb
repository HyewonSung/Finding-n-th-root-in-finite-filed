{
 "cells": [
  {
   "cell_type": "markdown",
   "metadata": {},
   "source": [
    "# Muller's square root algorithm for q=1 (mod 4)"
   ]
  },
  {
   "cell_type": "code",
   "execution_count": 1,
   "metadata": {},
   "outputs": [],
   "source": [
    "import timeit"
   ]
  },
  {
   "cell_type": "code",
   "execution_count": 25,
   "metadata": {},
   "outputs": [
    {
     "name": "stdout",
     "output_type": "stream",
     "text": [
      "2^100 bit random prime number p = 1791611784636012329615370947573\n"
     ]
    }
   ],
   "source": [
    "#Find prime p which is 100 bits\n",
    "#In order to find such p, I use Miller-Rabin primality test.\n",
    "#In Muller's algorithm, we use p as 1 mod 4, so I add this condition in the end.\n",
    "\n",
    "# Python3 program Miller-Rabin primality test\n",
    "import random\n",
    "\n",
    "\n",
    "# This function is called for all k trials. \n",
    "# It returns false if n is composite and returns false if n is probably prime.\n",
    "def miillerTest(d, n):\n",
    "\n",
    "    a = 2 + random.randint(1, n - 4)\n",
    "\n",
    "    x = pow(a, d, n)\n",
    "\n",
    "    if (x == 1 or x == n - 1):\n",
    "        return True\n",
    "\n",
    "    while (d != n - 1):\n",
    "        x = (x * x) % n\n",
    "        d *= 2\n",
    "\n",
    "        if (x == 1):\n",
    "            return False\n",
    "        if (x == n - 1):\n",
    "            return True\n",
    "\n",
    "    return False;\n",
    "\n",
    "# It returns false if n is composite and returns true if n is probably prime. \n",
    "# k is an input parameter that determines accuracy level. Higher value of k indicates more accuracy.\n",
    "def isPrime( n, k):\n",
    "\n",
    "    if (n <= 1 or n == 4):\n",
    "        return False\n",
    "    if (n <= 3):\n",
    "        return True\n",
    "\n",
    "    d = n - 1\n",
    "    while (d % 2 == 0):\n",
    "        d //= 2\n",
    "    \n",
    "    for i in range(k):\n",
    "        if (miillerTest(d, n) == False):\n",
    "            return False\n",
    "\n",
    "    return True\n",
    "\n",
    "\n",
    "# Driver Code\n",
    "k = 4 # Number of iterations\n",
    "\n",
    "while 1:\n",
    "    p = random.randint(pow(2,100),pow(2,101))\n",
    "    if (isPrime(p, k) and (p%4==1)):\n",
    "        print(\"2^100 bit random prime number p =\",p)\n",
    "        break"
   ]
  },
  {
   "cell_type": "code",
   "execution_count": 26,
   "metadata": {},
   "outputs": [
    {
     "name": "stdout",
     "output_type": "stream",
     "text": [
      "1\n",
      "Our sample p and n, respectively : 1791611784636012329615370947573 625\n"
     ]
    }
   ],
   "source": [
    "print(p%4)\n",
    "n=625\n",
    "print(\"Our sample p and n, respectively :\",p,n)"
   ]
  },
  {
   "cell_type": "code",
   "execution_count": 27,
   "metadata": {},
   "outputs": [
    {
     "name": "stdout",
     "output_type": "stream",
     "text": [
      "Roots of 625 mod 1791611784636012329615370947573 :(25, 1791611784636012329615370947548)\n"
     ]
    }
   ],
   "source": [
    "#Takes quadratic residue n and odd prime p=1 (mod 4)\n",
    "#Returns both square roots of n modulo p as a pair (a,b)\n",
    "#Returns () if no root\n",
    "\n",
    "def muller(n,p):\n",
    "    n %= p\n",
    "    \n",
    "    #Step1\n",
    "    if(n==4):\n",
    "        return (2,-2)\n",
    "    if(n == 0 or n == 1):\n",
    "        return (n,-n%p)\n",
    "    \n",
    "    #Step2\n",
    "    phi=p-1\n",
    "    temp = pow(n-4, int(phi//2), p)\n",
    "    if (temp==-1) :\n",
    "        t=1\n",
    "    elif(temp==1) :\n",
    "        t=1\n",
    "        while (pow(n*t*t-4, int(phi//2), p)==1) :\n",
    "            t = (t+1)%p #it stops when t is quadratic-nonresidue\n",
    "    \n",
    "    #Step3\n",
    "    largep = (n*t*t-2)%p\n",
    "    \n",
    "    #Step4\n",
    "    v = largep%p\n",
    "    w = (largep*largep-2)%p\n",
    "    m = bin(int(phi//4))\n",
    "    l = len(m)\n",
    "    for i in range(3,l-1) :\n",
    "        if(m[i]=='1'):\n",
    "            v = (v*w - largep)%p\n",
    "            w = (w*w-2)%p\n",
    "        else:\n",
    "            w = (v*w-largep)%p\n",
    "            v = (v*v-2)%p\n",
    "            \n",
    "    #Step5\n",
    "    w1 = (v*w-largep)%p\n",
    "    w2 = (v*v-2)%p\n",
    "    if(m[l-1]=='1'):\n",
    "        return (int(w1//t)%p, (-int(w1//t))%p)\n",
    "    else:\n",
    "        return (int(w2//t)%p, (-int(w2//t))%p)\n",
    "    \n",
    "\n",
    "print (\"Roots of\", n, \"mod\", p,\":\" + str(muller(n,p)))\n"
   ]
  },
  {
   "cell_type": "code",
   "execution_count": 31,
   "metadata": {},
   "outputs": [
    {
     "name": "stdout",
     "output_type": "stream",
     "text": [
      "cpu time for executing Muller's algorithm : 3.999998625658918e-07\n"
     ]
    }
   ],
   "source": [
    "t1 = timeit.timeit(str(muller(n,p)),setup='pass', number=1)\n",
    "print(\"cpu time for executing Muller's algorithm :\", t1)"
   ]
  },
  {
   "cell_type": "code",
   "execution_count": null,
   "metadata": {},
   "outputs": [],
   "source": []
  },
  {
   "cell_type": "code",
   "execution_count": null,
   "metadata": {},
   "outputs": [],
   "source": []
  }
 ],
 "metadata": {
  "kernelspec": {
   "display_name": "Python 3",
   "language": "python",
   "name": "python3"
  },
  "language_info": {
   "codemirror_mode": {
    "name": "ipython",
    "version": 3
   },
   "file_extension": ".py",
   "mimetype": "text/x-python",
   "name": "python",
   "nbconvert_exporter": "python",
   "pygments_lexer": "ipython3",
   "version": "3.7.6"
  }
 },
 "nbformat": 4,
 "nbformat_minor": 4
}
