{
 "cells": [
  {
   "cell_type": "code",
   "execution_count": 1,
   "metadata": {},
   "outputs": [],
   "source": [
    "import timeit"
   ]
  },
  {
   "cell_type": "code",
   "execution_count": 35,
   "metadata": {},
   "outputs": [
    {
     "name": "stdout",
     "output_type": "stream",
     "text": [
      "2^100 bit random prime number p = 1533576162020679162021640793993\n"
     ]
    }
   ],
   "source": [
    "#Find prime p which is 100 bits\n",
    "#In order to find such p, I use Miller-Rabin primality test.\n",
    "#In algorithm 4, we use p as 9 mod 16, so I add this condition in the end.\n",
    "\n",
    "# Python3 program Miller-Rabin primality test\n",
    "import random\n",
    "\n",
    "\n",
    "# This function is called for all k trials. \n",
    "# It returns false if n is composite and returns false if n is probably prime.\n",
    "def miillerTest(d, n):\n",
    "\n",
    "    a = 2 + random.randint(1, n - 4)\n",
    "\n",
    "    x = pow(a, d, n)\n",
    "\n",
    "    if (x == 1 or x == n - 1):\n",
    "        return True\n",
    "\n",
    "    while (d != n - 1):\n",
    "        x = (x * x) % n\n",
    "        d *= 2\n",
    "\n",
    "        if (x == 1):\n",
    "            return False\n",
    "        if (x == n - 1):\n",
    "            return True\n",
    "\n",
    "    return False;\n",
    "\n",
    "# It returns false if n is composite and returns true if n is probably prime. \n",
    "# k is an input parameter that determines accuracy level. Higher value of k indicates more accuracy.\n",
    "def isPrime( n, k):\n",
    "\n",
    "    if (n <= 1 or n == 4):\n",
    "        return False\n",
    "    if (n <= 3):\n",
    "        return True\n",
    "\n",
    "    d = n - 1\n",
    "    while (d % 2 == 0):\n",
    "        d //= 2\n",
    "    \n",
    "    for i in range(k):\n",
    "        if (miillerTest(d, n) == False):\n",
    "            return False\n",
    "\n",
    "    return True\n",
    "\n",
    "\n",
    "# Driver Code\n",
    "k = 4 # Number of iterations\n",
    "\n",
    "while 1:\n",
    "    p = random.randint(pow(2,100),pow(2,101))\n",
    "    if (isPrime(p, k) and (p%16==9)):\n",
    "        print(\"2^100 bit random prime number p =\",p)\n",
    "        break"
   ]
  },
  {
   "cell_type": "code",
   "execution_count": 2,
   "metadata": {},
   "outputs": [
    {
     "name": "stdout",
     "output_type": "stream",
     "text": [
      "9\n",
      "Our sample p and n, respectively : 1533576162020679162021640793993 625\n"
     ]
    }
   ],
   "source": [
    "#print(p%16)\n",
    "n=625\n",
    "print(\"Our sample p and n, respectively :\",p,n)"
   ]
  },
  {
   "cell_type": "code",
   "execution_count": 3,
   "metadata": {},
   "outputs": [
    {
     "name": "stdout",
     "output_type": "stream",
     "text": [
      "Roots of 625 mod 1533576162020679162021640793993 :(25, 1533576162020679162021640793968)\n"
     ]
    }
   ],
   "source": [
    "#Takes quadratic residue n and odd prime p=9 (mod 16)\n",
    "#Returns both square roots of n modulo p as a pair (a,b)\n",
    "#Returns () if no root\n",
    "\n",
    "def atkin4(n,p):\n",
    "    n %= p\n",
    "    \n",
    "    if(n == 0 or n == 1):\n",
    "        return (n,-n%p)\n",
    "    \n",
    "    phi = p - 1\n",
    "    if(pow(n, int(phi//2), p) != 1):\n",
    "        return ()\n",
    "    \n",
    "    if(p%4 == 3):\n",
    "        ans = pow(n,int((p+1)//4),p)\n",
    "        return (ans,-ans%p)\n",
    "    \n",
    "    #Step1\n",
    "    s = (2*n)%p\n",
    "    m1 = bin(int((p-1)//4))\n",
    "    len1 = len(m1)\n",
    "    for i in range(3,len1):\n",
    "        s = (s*s)%p\n",
    "        if(m1[i] =='1'):\n",
    "            s = (s*(2*n))%p\n",
    "    if(s==p-1):\n",
    "        s=-1\n",
    "    \n",
    "    #Step2\n",
    "    d = 1\n",
    "    phi = p-1\n",
    "    while(1):\n",
    "        temp = pow(d,int(phi//2),p)\n",
    "        if(temp==p-1):\n",
    "            temp=-1\n",
    "        if(temp == -s):\n",
    "            break;\n",
    "        d=(d+1)%p\n",
    "        \n",
    "        \n",
    "    #Step3\n",
    "    z = (2*d*d*n)%p\n",
    "    m2 = bin(int((p-9)//16))\n",
    "    len2 = len(m2)\n",
    "    for i in range(3,len2):\n",
    "        z = (z*z)%p\n",
    "        if(m2[i]=='1'):\n",
    "            z=(z*2*d*d*n)%p\n",
    "            \n",
    "    i = (2*z*z*d*d*n)%p\n",
    "    \n",
    "    #Step4\n",
    "    a = (z*d*n*(i-1))%p\n",
    "    \n",
    "    return(a, -a%p)\n",
    "    \n",
    "\n",
    "print (\"Roots of\", n, \"mod\", p,\":\" + str(atkin4(n,p)))\n"
   ]
  },
  {
   "cell_type": "code",
   "execution_count": 4,
   "metadata": {},
   "outputs": [
    {
     "name": "stdout",
     "output_type": "stream",
     "text": [
      "cpu time for executing atkin algorithm 4 (when p=9 (mod 16)) : 4.000003173132427e-07\n"
     ]
    }
   ],
   "source": [
    "t1 = timeit.timeit(str(atkin4(n,p)),setup='pass', number=1)\n",
    "print(\"cpu time for executing atkin algorithm 4 (when p=9 (mod 16)) :\", t1)"
   ]
  },
  {
   "cell_type": "code",
   "execution_count": null,
   "metadata": {},
   "outputs": [],
   "source": []
  }
 ],
 "metadata": {
  "kernelspec": {
   "display_name": "Python 3",
   "language": "python",
   "name": "python3"
  },
  "language_info": {
   "codemirror_mode": {
    "name": "ipython",
    "version": 3
   },
   "file_extension": ".py",
   "mimetype": "text/x-python",
   "name": "python",
   "nbconvert_exporter": "python",
   "pygments_lexer": "ipython3",
   "version": "3.7.6"
  }
 },
 "nbformat": 4,
 "nbformat_minor": 4
}
