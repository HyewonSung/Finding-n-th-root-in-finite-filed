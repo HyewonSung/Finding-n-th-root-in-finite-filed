{
 "cells": [
  {
   "cell_type": "code",
   "execution_count": 3,
   "metadata": {},
   "outputs": [],
   "source": [
    "import timeit"
   ]
  },
  {
   "cell_type": "code",
   "execution_count": 23,
   "metadata": {},
   "outputs": [
    {
     "name": "stdout",
     "output_type": "stream",
     "text": [
      "2^100 bit random prime number p = 2132701123098923759062045117457\n"
     ]
    }
   ],
   "source": [
    "#Find prime p which is 100 bits\n",
    "#In order to find such p, I use Miller-Rabin primality test.\n",
    "\n",
    "# Python3 program Miller-Rabin primality test\n",
    "import random\n",
    "\n",
    "\n",
    "# This function is called for all k trials. \n",
    "# It returns false if n is composite and returns false if n is probably prime.\n",
    "def miillerTest(d, n):\n",
    "\n",
    "    a = 2 + random.randint(1, n - 4)\n",
    "\n",
    "    x = pow(a, d, n)\n",
    "\n",
    "    if (x == 1 or x == n - 1):\n",
    "        return True\n",
    "\n",
    "    while (d != n - 1):\n",
    "        x = (x * x) % n\n",
    "        d *= 2\n",
    "\n",
    "        if (x == 1):\n",
    "            return False\n",
    "        if (x == n - 1):\n",
    "            return True\n",
    "\n",
    "    return False;\n",
    "\n",
    "# It returns false if n is composite and returns true if n is probably prime. \n",
    "# k is an input parameter that determines accuracy level. Higher value of k indicates more accuracy.\n",
    "def isPrime( n, k):\n",
    "\n",
    "    if (n <= 1 or n == 4):\n",
    "        return False\n",
    "    if (n <= 3):\n",
    "        return True\n",
    "\n",
    "    d = n - 1\n",
    "    while (d % 2 == 0):\n",
    "        d //= 2\n",
    "    \n",
    "    for i in range(k):\n",
    "        if (miillerTest(d, n) == False):\n",
    "            return False\n",
    "\n",
    "    return True\n",
    "\n",
    "\n",
    "# Driver Code\n",
    "k = 4 # Number of iterations\n",
    "\n",
    "while 1:\n",
    "    p = random.randint(pow(2,100),pow(2,101))\n",
    "    if (isPrime(p, k)):\n",
    "        print(\"2^100 bit random prime number p =\",p)\n",
    "        break"
   ]
  },
  {
   "cell_type": "code",
   "execution_count": 32,
   "metadata": {},
   "outputs": [
    {
     "name": "stdout",
     "output_type": "stream",
     "text": [
      "2431373227738818664834637426533\n"
     ]
    }
   ],
   "source": [
    "p=2431373227738818664834637426533 #For the experiment, set same p which used in original cipollar-lehmer algorithm\n",
    "print(p)\n",
    "n = 625"
   ]
  },
  {
   "cell_type": "code",
   "execution_count": 33,
   "metadata": {},
   "outputs": [
    {
     "name": "stdout",
     "output_type": "stream",
     "text": [
      "Roots of 625 mod 2431373227738818664834637426533 :(2431373227738818664834637426508, 25)\n"
     ]
    }
   ],
   "source": [
    "#Takes integer n and odd prime p\n",
    "#Returns both square roots of n modulo p as a pair (a,b)\n",
    "#Returns () if no root\n",
    "\n",
    "def cipolla(n,p):\n",
    "    n %= p\n",
    "    \n",
    "    if(n == 0 or n == 1):\n",
    "        return (n,-n%p)\n",
    "    \n",
    "    phi = p - 1\n",
    "    if(pow(n, int(phi//2), p) != 1):\n",
    "        return ()\n",
    "    \n",
    "    if(p%4 == 3):\n",
    "        ans = pow(n,int((p+1)//4),p)\n",
    "        return (ans,-ans%p)\n",
    "    \n",
    "    aa = 0\n",
    "    for i in range(1,p):\n",
    "        temp = pow(int((i*i-4*n)%p),int(phi//2),p)\n",
    "        if(temp == phi):\n",
    "            aa = i\n",
    "            break;\n",
    "    \n",
    "    if(aa^2 == n):\n",
    "        return (aa,-aa%p)\n",
    "\n",
    "    if(aa^2-4*n == 0):\n",
    "        return (aa//2,(-aa//2)%p)\n",
    "\n",
    "    m=bin(int((p+1)//2))\n",
    "    l=len(m)\n",
    "    x1 = 0\n",
    "    x2 = 1\n",
    "    for i in range(3,l):\n",
    "        xx1=x1;xx2=x2\n",
    "        x2 = (2*xx1*xx2+aa*xx2*xx2)%p\n",
    "        x1 = (xx1*xx1-xx2*xx2*n)%p\n",
    "        if(m[i]=='1'):\n",
    "            y1 = x1\n",
    "            y2 = x2\n",
    "            x1 = (-y2*n)%p\n",
    "            x2 = (y1+y2*aa)%p\n",
    "\n",
    "    return (x1,-x1%p)\n",
    "\n",
    "print (\"Roots of\", n, \"mod\", p,\":\" + str(cipolla(n,p)))\n"
   ]
  },
  {
   "cell_type": "code",
   "execution_count": 38,
   "metadata": {},
   "outputs": [
    {
     "name": "stdout",
     "output_type": "stream",
     "text": [
      "cpu time for executing equivalent cipollar-lehmer algorithm : 3.9999940781854093e-07\n"
     ]
    }
   ],
   "source": [
    "t1 = timeit.timeit(str(cipolla(n,p)),setup='pass', number=1)\n",
    "print(\"cpu time for executing equivalent cipollar-lehmer algorithm :\", t1)"
   ]
  },
  {
   "cell_type": "code",
   "execution_count": null,
   "metadata": {},
   "outputs": [],
   "source": []
  },
  {
   "cell_type": "code",
   "execution_count": null,
   "metadata": {},
   "outputs": [],
   "source": []
  }
 ],
 "metadata": {
  "kernelspec": {
   "display_name": "Python 3",
   "language": "python",
   "name": "python3"
  },
  "language_info": {
   "codemirror_mode": {
    "name": "ipython",
    "version": 3
   },
   "file_extension": ".py",
   "mimetype": "text/x-python",
   "name": "python",
   "nbconvert_exporter": "python",
   "pygments_lexer": "ipython3",
   "version": "3.7.6"
  }
 },
 "nbformat": 4,
 "nbformat_minor": 4
}
